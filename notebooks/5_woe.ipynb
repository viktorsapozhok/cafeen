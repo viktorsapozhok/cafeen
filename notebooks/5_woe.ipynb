{
 "cells": [
  {
   "cell_type": "code",
   "execution_count": 69,
   "metadata": {},
   "outputs": [],
   "source": [
    "%reload_ext autoreload\n",
    "%autoreload 2\n",
    "%matplotlib inline"
   ]
  },
  {
   "cell_type": "code",
   "execution_count": 70,
   "metadata": {},
   "outputs": [],
   "source": [
    "from datetime import datetime\n",
    "from os import path\n",
    "import warnings\n",
    "\n",
    "warnings.simplefilter(action='ignore', category=FutureWarning)\n",
    "warnings.simplefilter(action='ignore', category=UserWarning)\n",
    "\n",
    "import eli5\n",
    "from eli5.sklearn import PermutationImportance\n",
    "import lightgbm as lgb\n",
    "import numpy as np\n",
    "import pandas as pd\n",
    "from sklearn.metrics import roc_auc_score, make_scorer\n",
    "from sklearn.model_selection import train_test_split\n",
    "from sklearn.preprocessing import LabelEncoder\n",
    "import matplotlib as mpl\n",
    "import matplotlib.pyplot as plt\n",
    "from tqdm import tqdm\n",
    "\n",
    "mpl.style.use('ggplot')"
   ]
  },
  {
   "cell_type": "code",
   "execution_count": 71,
   "metadata": {},
   "outputs": [],
   "source": [
    "path_to_train = path.join(path.abspath('..'), 'data', 'train.csv')\n",
    "path_to_test = path.join(path.abspath('..'), 'data', 'test.csv')\n",
    "\n",
    "train = pd.read_csv(path_to_train)\n",
    "test = pd.read_csv(path_to_test)"
   ]
  },
  {
   "cell_type": "code",
   "execution_count": 72,
   "metadata": {},
   "outputs": [],
   "source": [
    "def add_woe_feature(train, test, feature, verbose=True):\n",
    "    n_events = train['target'].sum()\n",
    "    n_non_events = len(train) - n_events\n",
    "    \n",
    "    bins = train.groupby(feature)['target'].agg(['sum', 'count'])    \n",
    "    bins['n_non_events'] = bins['count'] - bins['sum']\n",
    "    bins['p_event'] = bins['sum'] / n_events\n",
    "    bins['p_non_event'] = bins['n_non_events'] / n_non_events\n",
    "    bins['woe'] = np.log(bins['p_event'] / bins['p_non_event'])\n",
    "    \n",
    "    train[feature + '_woe'] = train[feature].map(bins['woe'].to_dict())\n",
    "    test[feature + '_woe'] = test[feature].map(bins['woe'].to_dict())\n",
    "    \n",
    "    if verbose:\n",
    "        iv = ((bins['p_event'] - bins['p_non_event']) * bins['woe']).sum()\n",
    "        print(f'{feature}: IV {iv:.2f}')\n",
    "\n",
    "    return train, test\n",
    "\n",
    "def add_woe_max(train, features):\n",
    "    train['min_woe'] = train[features].min(axis=1)\n",
    "    train['max_woe'] = train[features].max(axis=1)\n",
    "    train['woe'] = train['max_woe']\n",
    "    mask = train['min_woe'].abs() > train['max_woe'].abs()\n",
    "    train.loc[mask, 'woe'] = train.loc[mask, 'min_woe']    \n",
    "    return train"
   ]
  },
  {
   "cell_type": "code",
   "execution_count": 73,
   "metadata": {},
   "outputs": [
    {
     "name": "stdout",
     "output_type": "stream",
     "text": [
      "bin_0: IV 0.03\n",
      "bin_1: IV 0.00\n",
      "bin_2: IV 0.03\n",
      "bin_3: IV 0.00\n",
      "bin_4: IV 0.00\n",
      "nom_0: IV 0.00\n",
      "nom_1: IV 0.03\n",
      "nom_2: IV 0.01\n",
      "nom_3: IV 0.02\n",
      "nom_4: IV 0.01\n",
      "ord_0: IV 0.07\n",
      "ord_1: IV 0.03\n",
      "ord_2: IV 0.11\n",
      "ord_3: IV 0.25\n",
      "ord_4: IV 0.05\n",
      "day: IV 0.02\n",
      "month: IV 0.08\n"
     ]
    }
   ],
   "source": [
    "features = ['bin_0', 'bin_1', 'bin_2', 'bin_3', 'bin_4', \n",
    "            'nom_0', 'nom_1', 'nom_2', 'nom_3', 'nom_4', \n",
    "            'ord_0', 'ord_1', 'ord_2', 'ord_3', 'ord_4', \n",
    "            'day', 'month']\n",
    "\n",
    "for feature in features:\n",
    "    train, test = add_woe_feature(train, test, feature)\n",
    "\n",
    "features_woe = [feature + '_woe' for feature in features]    \n",
    "train = add_woe_max(train, features_woe)\n",
    "test = add_woe_max(test, features_woe)\n",
    "\n",
    "for feature in features_woe:\n",
    "    train[feature] = train[feature].fillna(train['woe'])\n",
    "    test[feature] = test[feature].fillna(test['woe'])"
   ]
  },
  {
   "cell_type": "code",
   "execution_count": 74,
   "metadata": {},
   "outputs": [],
   "source": [
    "features = [col for col in train.columns if col not in ['id', 'target']]\n",
    "obj_cols = [col for col in features if train[col].dtype == np.object]\n",
    "num_cols = [col for col in features if train[col].dtype == np.float64]\n",
    "\n",
    "train[obj_cols] = train[obj_cols].fillna(value='NAN')\n",
    "train[num_cols] = train[num_cols].fillna(value=-1)\n",
    "\n",
    "for col in obj_cols:    \n",
    "    encoder = LabelEncoder()    \n",
    "    train[col] = encoder.fit(train[col]).transform(train[col])"
   ]
  },
  {
   "cell_type": "code",
   "execution_count": 75,
   "metadata": {},
   "outputs": [],
   "source": [
    "train_x, test_x, train_y, test_y = train_test_split(\n",
    "    train[features], \n",
    "    train['target'], \n",
    "    shuffle=True, \n",
    "    train_size=0.7, \n",
    "    random_state=42)    "
   ]
  },
  {
   "cell_type": "code",
   "execution_count": 76,
   "metadata": {},
   "outputs": [],
   "source": [
    "def show_weights(expl):\n",
    "    for row in expl.itertuples():\n",
    "        print(f'{row.feature:8s}: {100*row.weight:5.2f} +- {100*2*row.std:.3f}')"
   ]
  },
  {
   "cell_type": "code",
   "execution_count": 77,
   "metadata": {},
   "outputs": [],
   "source": [
    "cat_features = [col for col in test.columns if ('woe' not in col) and (col not in ['id'])]\n",
    "estimator = lgb.LGBMClassifier(n_estimators=50, categorical_features=cat_features)\n",
    "estimator.fit(train_x, train_y)\n",
    "\n",
    "# initialize permutation importance class\n",
    "perm_estimator = PermutationImportance(\n",
    "    estimator=estimator, \n",
    "    scoring=make_scorer(roc_auc_score, needs_proba=True),\n",
    "    n_iter=3)\n",
    "perm_estimator.fit(test_x, test_y)\n",
    "\n",
    "# calculate feature weights and return it as DataFrame\n",
    "expl = eli5.format_as_dataframe(\n",
    "    eli5.explain_weights(\n",
    "        perm_estimator,\n",
    "        top=None,\n",
    "        feature_names=features\n",
    "    )\n",
    ")"
   ]
  },
  {
   "cell_type": "code",
   "execution_count": 78,
   "metadata": {},
   "outputs": [
    {
     "name": "stdout",
     "output_type": "stream",
     "text": [
      "ord_5   :  2.88 +- 0.099\n",
      "woe     :  1.66 +- 0.011\n",
      "ord_2_woe:  1.02 +- 0.067\n",
      "max_woe :  0.87 +- 0.042\n",
      "min_woe :  0.86 +- 0.049\n",
      "nom_1_woe:  0.73 +- 0.016\n",
      "ord_4   :  0.60 +- 0.021\n",
      "day_woe :  0.51 +- 0.064\n",
      "month_woe:  0.48 +- 0.055\n",
      "ord_1_woe:  0.44 +- 0.031\n",
      "nom_3_woe:  0.42 +- 0.014\n",
      "ord_0_woe:  0.41 +- 0.011\n",
      "bin_2   :  0.36 +- 0.025\n",
      "ord_0   :  0.32 +- 0.047\n",
      "nom_2_woe:  0.28 +- 0.018\n",
      "month   :  0.22 +- 0.040\n",
      "ord_3   :  0.22 +- 0.005\n",
      "ord_3_woe:  0.18 +- 0.034\n",
      "nom_4   :  0.16 +- 0.020\n",
      "ord_1   :  0.07 +- 0.016\n",
      "bin_2_woe:  0.06 +- 0.022\n",
      "ord_4_woe:  0.06 +- 0.010\n",
      "nom_8   :  0.05 +- 0.008\n",
      "bin_0   :  0.03 +- 0.011\n",
      "nom_3   :  0.03 +- 0.008\n",
      "bin_1   :  0.02 +- 0.001\n",
      "ord_2   :  0.02 +- 0.008\n",
      "bin_4   :  0.02 +- 0.006\n",
      "nom_0   :  0.01 +- 0.002\n",
      "nom_4_woe:  0.01 +- 0.003\n",
      "nom_1   :  0.01 +- 0.004\n",
      "nom_7   :  0.01 +- 0.003\n",
      "bin_0_woe:  0.00 +- 0.000\n",
      "day     :  0.00 +- 0.002\n",
      "bin_1_woe:  0.00 +- 0.001\n",
      "nom_0_woe:  0.00 +- 0.001\n",
      "nom_2   :  0.00 +- 0.001\n",
      "bin_4_woe:  0.00 +- 0.001\n",
      "nom_5   :  0.00 +- 0.000\n",
      "nom_6   :  0.00 +- 0.000\n",
      "nom_9   :  0.00 +- 0.000\n",
      "bin_3   :  0.00 +- 0.000\n",
      "bin_3_woe:  0.00 +- 0.000\n"
     ]
    }
   ],
   "source": [
    "show_weights(expl)"
   ]
  },
  {
   "cell_type": "code",
   "execution_count": null,
   "metadata": {},
   "outputs": [],
   "source": []
  },
  {
   "cell_type": "code",
   "execution_count": 79,
   "metadata": {},
   "outputs": [
    {
     "data": {
      "text/plain": [
       "['bin_0',\n",
       " 'bin_1',\n",
       " 'bin_2',\n",
       " 'bin_3',\n",
       " 'bin_4',\n",
       " 'nom_0',\n",
       " 'nom_1',\n",
       " 'nom_2',\n",
       " 'nom_3',\n",
       " 'nom_4',\n",
       " 'nom_5',\n",
       " 'nom_6',\n",
       " 'nom_7',\n",
       " 'nom_8',\n",
       " 'nom_9',\n",
       " 'ord_0',\n",
       " 'ord_1',\n",
       " 'ord_2',\n",
       " 'ord_3',\n",
       " 'ord_4',\n",
       " 'ord_5',\n",
       " 'day',\n",
       " 'month']"
      ]
     },
     "execution_count": 79,
     "metadata": {},
     "output_type": "execute_result"
    }
   ],
   "source": [
    "cat_features"
   ]
  },
  {
   "cell_type": "code",
   "execution_count": null,
   "metadata": {},
   "outputs": [],
   "source": []
  }
 ],
 "metadata": {
  "kernelspec": {
   "display_name": "Python 3",
   "language": "python",
   "name": "python3"
  },
  "language_info": {
   "codemirror_mode": {
    "name": "ipython",
    "version": 3
   },
   "file_extension": ".py",
   "mimetype": "text/x-python",
   "name": "python",
   "nbconvert_exporter": "python",
   "pygments_lexer": "ipython3",
   "version": "3.7.6"
  },
  "pycharm": {
   "stem_cell": {
    "cell_type": "raw",
    "metadata": {
     "collapsed": false
    },
    "source": []
   }
  }
 },
 "nbformat": 4,
 "nbformat_minor": 4
}
