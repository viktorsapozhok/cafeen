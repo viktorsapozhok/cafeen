{
 "cells": [
  {
   "cell_type": "code",
   "execution_count": 1,
   "metadata": {},
   "outputs": [],
   "source": [
    "%reload_ext autoreload\n",
    "%autoreload 2\n",
    "%matplotlib inline"
   ]
  },
  {
   "cell_type": "code",
   "execution_count": 2,
   "metadata": {},
   "outputs": [],
   "source": [
    "from collections import defaultdict\n",
    "from datetime import datetime\n",
    "from os import path\n",
    "import warnings\n",
    "\n",
    "warnings.simplefilter(action='ignore', category=FutureWarning)\n",
    "warnings.simplefilter(action='ignore', category=UserWarning)\n",
    "warnings.simplefilter(action='ignore', category=RuntimeWarning)\n",
    "\n",
    "import lightgbm as lgb\n",
    "import numpy as np\n",
    "import pandas as pd\n",
    "from sklearn.preprocessing import LabelEncoder\n",
    "from sklearn.experimental import enable_iterative_imputer\n",
    "from sklearn.impute import IterativeImputer\n",
    "import matplotlib as mpl\n",
    "import matplotlib.pyplot as plt\n",
    "from tqdm import tqdm\n",
    "from cafeen import utils\n",
    "\n",
    "mpl.style.use('ggplot')"
   ]
  },
  {
   "cell_type": "code",
   "execution_count": 3,
   "metadata": {},
   "outputs": [],
   "source": [
    "path_to_train = path.join(path.abspath('..'), 'data', 'train.csv')\n",
    "train = pd.read_csv(path_to_train)"
   ]
  },
  {
   "cell_type": "code",
   "execution_count": 4,
   "metadata": {},
   "outputs": [
    {
     "name": "stdout",
     "output_type": "stream",
     "text": [
      "ord_3   :  8.72 +- 0.215\n",
      "ord_5   :  3.26 +- 0.137\n",
      "ord_2   :  2.82 +- 0.160\n",
      "month   :  2.26 +- 0.020\n",
      "ord_0   :  2.26 +- 0.051\n",
      "ord_4   :  1.47 +- 0.062\n",
      "bin_0   :  0.84 +- 0.075\n",
      "bin_2   :  0.74 +- 0.080\n",
      "nom_1   :  0.70 +- 0.020\n",
      "ord_1   :  0.67 +- 0.034\n",
      "nom_3   :  0.46 +- 0.012\n",
      "day     :  0.41 +- 0.010\n",
      "nom_4   :  0.20 +- 0.017\n",
      "nom_2   :  0.13 +- 0.010\n",
      "bin_1   :  0.03 +- 0.000\n",
      "nom_8   :  0.02 +- 0.004\n",
      "bin_4   :  0.01 +- 0.007\n",
      "nom_0   :  0.01 +- 0.002\n",
      "nom_7   :  0.00 +- 0.002\n",
      "nom_9   :  0.00 +- 0.000\n",
      "bin_3   :  0.00 +- 0.000\n",
      "nom_6   :  0.00 +- 0.000\n",
      "nom_5   : -0.00 +- 0.000\n"
     ]
    }
   ],
   "source": [
    "features = [col for col in train.columns if col not in ['id', 'target']]\n",
    "obj_cols = [col for col in features if train[col].dtype == np.object]\n",
    "num_cols = [col for col in features if train[col].dtype == np.float64]\n",
    "\n",
    "train[obj_cols] = train[obj_cols].fillna(value='NAN')\n",
    "train[num_cols] = train[num_cols].fillna(value=-1)\n",
    "\n",
    "for col in obj_cols:    \n",
    "    encoder = LabelEncoder()    \n",
    "    train[col] = encoder.fit(train[col]).transform(train[col])\n",
    "    \n",
    "utils.eval_weights(train, features)"
   ]
  },
  {
   "cell_type": "code",
   "execution_count": 5,
   "metadata": {},
   "outputs": [],
   "source": [
    "path_to_train = path.join(path.abspath('..'), 'data', 'train.csv')\n",
    "path_to_test = path.join(path.abspath('..'), 'data', 'test.csv')\n",
    "train = pd.read_csv(path_to_train)\n",
    "test = pd.read_csv(path_to_test)"
   ]
  },
  {
   "cell_type": "code",
   "execution_count": 6,
   "metadata": {},
   "outputs": [],
   "source": [
    "features = [col for col in train.columns if col not in ['id', 'target']]"
   ]
  },
  {
   "cell_type": "code",
   "execution_count": 7,
   "metadata": {},
   "outputs": [],
   "source": [
    "def impute_nans(estimator, train, test, features):\n",
    "    _train = train.copy()\n",
    "    _test = test.copy()\n",
    "    _train['is_train'] = 1\n",
    "    _test['is_train'] = 0\n",
    "\n",
    "    df = pd.concat([\n",
    "        _train[features + ['is_train']], \n",
    "        _test[features + ['is_train']]]\n",
    "    ).reset_index(drop=True)\n",
    "    \n",
    "    del _train, _test\n",
    "\n",
    "    nans = df.isna()\n",
    "\n",
    "    obj_cols = [col for col in features if df[col].dtype == np.object]\n",
    "    df[obj_cols] = df[obj_cols].fillna(value='-1')\n",
    "    \n",
    "    num_cols = [col for col in features if df[col].dtype == np.float64]\n",
    "    df[num_cols] = df[num_cols].fillna(value=-1)\n",
    "\n",
    "    encoders = defaultdict()\n",
    "    \n",
    "    for col in obj_cols:    \n",
    "        encoders[col] = LabelEncoder()\n",
    "        encoders[col].fit(df[col])\n",
    "        df[col] = encoders[col].transform(df[col])\n",
    "    \n",
    "    for feature in tqdm(features, ascii=True):\n",
    "        _features = [f for f in features if f not in [feature]]\n",
    "                \n",
    "        imputed = estimator.fit(\n",
    "            df.loc[~nans[feature], _features],\n",
    "            df.loc[~nans[feature], feature]\n",
    "        ).predict(df[_features])\n",
    "        \n",
    "        df.loc[nans[feature], feature] = imputed[nans.index[nans[feature]]]\n",
    "\n",
    "    for col in obj_cols:            \n",
    "        df[col] = encoders[col].inverse_transform(df[col])\n",
    "        \n",
    "    train[features] = df.loc[df['is_train'] == 1, features]\n",
    "    test[features] = df.loc[df['is_train'] == 0, features]\n",
    "    \n",
    "    return train, test"
   ]
  },
  {
   "cell_type": "code",
   "execution_count": 8,
   "metadata": {},
   "outputs": [],
   "source": [
    "estimator=lgb.LGBMClassifier(n_estimators=100)"
   ]
  },
  {
   "cell_type": "code",
   "execution_count": 9,
   "metadata": {},
   "outputs": [
    {
     "name": "stderr",
     "output_type": "stream",
     "text": [
      "100%|##########| 17/17 [05:29<00:00, 19.37s/it]\n"
     ]
    }
   ],
   "source": [
    "features = ['bin_0', 'bin_1', 'bin_2', 'bin_3', 'bin_4', \n",
    "            'nom_0', 'nom_1', 'nom_2', 'nom_3', 'nom_4', \n",
    "            'ord_0', 'ord_1', 'ord_2', 'ord_3', 'ord_4', \n",
    "            'day', 'month']\n",
    "\n",
    "train, test = impute_nans(estimator, train, test, features)"
   ]
  },
  {
   "cell_type": "code",
   "execution_count": 12,
   "metadata": {},
   "outputs": [
    {
     "name": "stdout",
     "output_type": "stream",
     "text": [
      "ord_3   :  8.54 +- 0.134\n",
      "ord_5   :  3.13 +- 0.044\n",
      "ord_2   :  2.78 +- 0.050\n",
      "month   :  2.42 +- 0.109\n",
      "ord_0   :  2.13 +- 0.006\n",
      "ord_4   :  1.53 +- 0.051\n",
      "bin_0   :  0.82 +- 0.077\n",
      "bin_2   :  0.75 +- 0.013\n",
      "ord_1   :  0.64 +- 0.072\n",
      "nom_1   :  0.62 +- 0.080\n",
      "day     :  0.45 +- 0.030\n",
      "nom_3   :  0.41 +- 0.028\n",
      "nom_4   :  0.22 +- 0.041\n",
      "nom_2   :  0.15 +- 0.018\n",
      "nom_8   :  0.03 +- 0.009\n",
      "bin_1   :  0.02 +- 0.005\n",
      "bin_4   :  0.01 +- 0.009\n",
      "nom_0   :  0.01 +- 0.004\n",
      "nom_7   :  0.00 +- 0.001\n",
      "nom_6   :  0.00 +- 0.001\n",
      "nom_9   :  0.00 +- 0.000\n",
      "nom_5   :  0.00 +- 0.000\n",
      "bin_3   :  0.00 +- 0.000\n"
     ]
    }
   ],
   "source": [
    "features = [col for col in train.columns if col not in ['id', 'target']]\n",
    "obj_cols = [col for col in features if train[col].dtype == np.object]\n",
    "num_cols = [col for col in features if train[col].dtype == np.float64]\n",
    "\n",
    "train[obj_cols] = train[obj_cols].fillna(value='NAN')\n",
    "train[num_cols] = train[num_cols].fillna(value=-1)\n",
    "\n",
    "\n",
    "for col in obj_cols:    \n",
    "    encoder = LabelEncoder()    \n",
    "    train[col] = encoder.fit(train[col]).transform(train[col])\n",
    "    \n",
    "utils.eval_weights(train, features)"
   ]
  },
  {
   "cell_type": "code",
   "execution_count": null,
   "metadata": {},
   "outputs": [],
   "source": []
  },
  {
   "cell_type": "code",
   "execution_count": null,
   "metadata": {},
   "outputs": [],
   "source": []
  }
 ],
 "metadata": {
  "kernelspec": {
   "display_name": "Python 3",
   "language": "python",
   "name": "python3"
  },
  "language_info": {
   "codemirror_mode": {
    "name": "ipython",
    "version": 3
   },
   "file_extension": ".py",
   "mimetype": "text/x-python",
   "name": "python",
   "nbconvert_exporter": "python",
   "pygments_lexer": "ipython3",
   "version": "3.7.6"
  },
  "pycharm": {
   "stem_cell": {
    "cell_type": "raw",
    "metadata": {
     "collapsed": false
    },
    "source": []
   }
  }
 },
 "nbformat": 4,
 "nbformat_minor": 4
}
