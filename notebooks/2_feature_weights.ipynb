{
 "cells": [
  {
   "cell_type": "code",
   "execution_count": 1,
   "metadata": {},
   "outputs": [],
   "source": [
    "%reload_ext autoreload\n",
    "%autoreload 2\n",
    "%matplotlib inline"
   ]
  },
  {
   "cell_type": "code",
   "execution_count": 1,
   "metadata": {},
   "outputs": [],
   "source": [
    "from datetime import datetime\n",
    "from os import path\n",
    "import warnings\n",
    "\n",
    "warnings.simplefilter(action='ignore', category=FutureWarning)\n",
    "warnings.simplefilter(action='ignore', category=UserWarning)\n",
    "\n",
    "import eli5\n",
    "from eli5.sklearn import PermutationImportance\n",
    "import lightgbm as lgb\n",
    "import numpy as np\n",
    "import pandas as pd\n",
    "from sklearn.metrics import roc_auc_score, make_scorer\n",
    "from sklearn.model_selection import train_test_split\n",
    "from sklearn.preprocessing import LabelEncoder\n",
    "import matplotlib as mpl\n",
    "import matplotlib.pyplot as plt\n",
    "from cafeen import utils\n",
    "\n",
    "mpl.style.use('ggplot')"
   ]
  },
  {
   "cell_type": "code",
   "execution_count": 3,
   "metadata": {},
   "outputs": [],
   "source": [
    "path_to_train = path.join(path.abspath('..'), 'data', 'train.csv')\n",
    "path_to_test = path.join(path.abspath('..'), 'data', 'test.csv')\n",
    "\n",
    "train = pd.read_csv(path_to_train)\n",
    "\n",
    "features = [col for col in train.columns if col not in ['id', 'target']]\n",
    "obj_cols = [col for col in features if train[col].dtype == np.object]\n",
    "num_cols = [col for col in features if train[col].dtype == np.float64]"
   ]
  },
  {
   "cell_type": "code",
   "execution_count": 4,
   "metadata": {},
   "outputs": [],
   "source": [
    "train[obj_cols] = train[obj_cols].fillna(value='NAN')\n",
    "train[num_cols] = train[num_cols].fillna(value=-1)\n",
    "\n",
    "for col in obj_cols:    \n",
    "    encoder = LabelEncoder()    \n",
    "    train[col] = encoder.fit(train[col]).transform(train[col])\n",
    "    \n",
    "train_x, test_x, train_y, test_y = train_test_split(\n",
    "    train[features], \n",
    "    train['target'], \n",
    "    shuffle=True, \n",
    "    train_size=0.7, \n",
    "    random_state=42)    "
   ]
  },
  {
   "cell_type": "code",
   "execution_count": 4,
   "metadata": {},
   "outputs": [],
   "source": [
    "def show_weights(expl):\n",
    "    for row in expl.itertuples():\n",
    "        print(f'{row.feature:5s}: {100*row.weight:5.2f} +- {100*2*row.std:.3f}')"
   ]
  },
  {
   "cell_type": "code",
   "execution_count": 16,
   "metadata": {},
   "outputs": [
    {
     "name": "stdout",
     "output_type": "stream",
     "text": [
      "ord_3:  8.02 +- 0.169\n",
      "ord_2:  3.07 +- 0.045\n",
      "ord_5:  2.52 +- 0.044\n",
      "month:  2.10 +- 0.056\n",
      "nom_8:  2.08 +- 0.078\n",
      "ord_0:  2.00 +- 0.158\n",
      "nom_7:  1.76 +- 0.018\n",
      "ord_4:  1.08 +- 0.029\n",
      "nom_9:  0.79 +- 0.047\n",
      "nom_1:  0.62 +- 0.026\n",
      "bin_2:  0.58 +- 0.023\n",
      "ord_1:  0.57 +- 0.021\n",
      "bin_0:  0.56 +- 0.048\n",
      "nom_3:  0.35 +- 0.067\n",
      "nom_5:  0.33 +- 0.038\n",
      "day  :  0.30 +- 0.044\n",
      "nom_2:  0.18 +- 0.031\n",
      "nom_4:  0.09 +- 0.015\n",
      "nom_6:  0.05 +- 0.015\n",
      "nom_0:  0.00 +- 0.000\n",
      "bin_4:  0.00 +- 0.000\n",
      "bin_3:  0.00 +- 0.000\n",
      "bin_1:  0.00 +- 0.000\n"
     ]
    }
   ],
   "source": [
    "estimator = lgb.LGBMClassifier(n_estimators=50)\n",
    "estimator.fit(train_x, train_y, categorical_feature=features)\n",
    "\n",
    "# initialize permutation importance class\n",
    "perm_estimator = PermutationImportance(\n",
    "    estimator=estimator, \n",
    "    scoring=make_scorer(roc_auc_score, needs_proba=True),\n",
    "    n_iter=3)\n",
    "perm_estimator.fit(test_x, test_y)\n",
    "\n",
    "# calculate feature weights and return it as DataFrame\n",
    "expl = eli5.format_as_dataframe(\n",
    "    eli5.explain_weights(\n",
    "        perm_estimator,\n",
    "        top=None,\n",
    "        feature_names=features\n",
    "    )\n",
    ")\n",
    "\n",
    "show_weights(expl)"
   ]
  },
  {
   "cell_type": "code",
   "execution_count": 13,
   "metadata": {},
   "outputs": [],
   "source": []
  },
  {
   "cell_type": "code",
   "execution_count": 3,
   "metadata": {},
   "outputs": [
    {
     "name": "stdout",
     "output_type": "stream",
     "text": [
      "[IterativeImputer] Completing matrix with shape (1000000, 23)\n",
      "[IterativeImputer] Ending imputation round 1/10, elapsed time 61.85\n",
      "[IterativeImputer] Change: 896.7260140560772, scaled tolerance: 0.2008 \n",
      "[IterativeImputer] Ending imputation round 2/10, elapsed time 124.20\n",
      "[IterativeImputer] Change: 0.9492554429233921, scaled tolerance: 0.2008 \n",
      "[IterativeImputer] Ending imputation round 3/10, elapsed time 186.03\n",
      "[IterativeImputer] Change: 0.0019703717794072872, scaled tolerance: 0.2008 \n",
      "[IterativeImputer] Early stopping criterion reached.\n"
     ]
    },
    {
     "name": "stderr",
     "output_type": "stream",
     "text": [
      "encoding: 0it [00:00, ?it/s]\n"
     ]
    }
   ],
   "source": [
    "import logging\n",
    "\n",
    "import lightgbm as lgb\n",
    "import pandas as pd\n",
    "from sklearn.impute import MissingIndicator\n",
    "\n",
    "from cafeen import config, steps, utils\n",
    "\n",
    "df = utils.read_data()\n",
    "features = utils.get_features(df.columns)\n",
    "\n",
    "df = utils.mark_as_na(df, ['nom_5', 'nom_6', 'nom_9'], threshold=85)\n",
    "\n",
    "ind_features = MissingIndicator().fit_transform(df[features])\n",
    "ind_columns = ['ind_' + str(i) for i in range(ind_features.shape[1])]\n",
    "df[ind_columns] = pd.DataFrame(ind_features).astype('int')\n",
    "\n",
    "df = utils.encode_ordinal_features(df, features)\n",
    "df = utils.fill_na(df, features, initial_strategy='most_frequent')\n",
    "df = utils.add_counts(\n",
    "    df, ['nom_5', 'nom_6', 'nom_7', 'nom_8', 'nom_9', 'ord_5'])\n",
    "\n",
    "train, test = utils.split_data(utils.encode_features(df))"
   ]
  },
  {
   "cell_type": "code",
   "execution_count": 5,
   "metadata": {},
   "outputs": [
    {
     "name": "stdout",
     "output_type": "stream",
     "text": [
      "ord_3:  7.50 +- 0.202\n",
      "ord_2:  2.89 +- 0.078\n",
      "ord_5:  2.69 +- 0.036\n",
      "month:  2.14 +- 0.051\n",
      "nom_8:  2.12 +- 0.091\n",
      "ord_0:  1.93 +- 0.075\n",
      "nom_7:  1.88 +- 0.096\n",
      "nom_9:  1.81 +- 0.054\n",
      "ord_4:  1.15 +- 0.083\n",
      "nom_1:  0.67 +- 0.022\n",
      "nom_5:  0.64 +- 0.078\n",
      "bin_2:  0.59 +- 0.028\n",
      "bin_0:  0.59 +- 0.044\n",
      "ord_1:  0.59 +- 0.039\n",
      "day  :  0.43 +- 0.018\n",
      "nom_3:  0.42 +- 0.039\n",
      "nom_6:  0.21 +- 0.025\n",
      "nom_2:  0.20 +- 0.022\n",
      "nom_4:  0.14 +- 0.018\n",
      "bin_1:  0.00 +- 0.000\n",
      "bin_4:  0.00 +- 0.001\n",
      "nom_9_count:  0.00 +- 0.000\n",
      "nom_0:  0.00 +- 0.000\n",
      "bin_3:  0.00 +- 0.000\n",
      "ind_0:  0.00 +- 0.000\n",
      "ind_1:  0.00 +- 0.000\n",
      "ord_5_count:  0.00 +- 0.000\n",
      "ind_3:  0.00 +- 0.000\n",
      "ind_16:  0.00 +- 0.000\n",
      "nom_8_count:  0.00 +- 0.000\n",
      "nom_7_count:  0.00 +- 0.000\n",
      "nom_6_count:  0.00 +- 0.000\n",
      "nom_5_count:  0.00 +- 0.000\n",
      "ind_22:  0.00 +- 0.000\n",
      "ind_21:  0.00 +- 0.000\n",
      "ind_20:  0.00 +- 0.000\n",
      "ind_19:  0.00 +- 0.000\n",
      "ind_18:  0.00 +- 0.000\n",
      "ind_17:  0.00 +- 0.000\n",
      "ind_15:  0.00 +- 0.000\n",
      "ind_4:  0.00 +- 0.000\n",
      "ind_14:  0.00 +- 0.000\n",
      "ind_13:  0.00 +- 0.000\n",
      "ind_12:  0.00 +- 0.000\n",
      "ind_11:  0.00 +- 0.000\n",
      "ind_10:  0.00 +- 0.000\n",
      "ind_9:  0.00 +- 0.000\n",
      "ind_8:  0.00 +- 0.000\n",
      "ind_7:  0.00 +- 0.000\n",
      "ind_6:  0.00 +- 0.000\n",
      "ind_5:  0.00 +- 0.000\n",
      "ind_2:  0.00 +- 0.000\n"
     ]
    }
   ],
   "source": [
    "features = utils.get_features(train.columns)\n",
    "\n",
    "train_x, test_x, train_y, test_y = train_test_split(\n",
    "    train[features], \n",
    "    train['target'], \n",
    "    shuffle=True, \n",
    "    train_size=0.7, \n",
    "    random_state=42)    \n",
    "\n",
    "estimator = lgb.LGBMClassifier(n_estimators=50)\n",
    "estimator.fit(train_x, train_y)\n",
    "\n",
    "# initialize permutation importance class\n",
    "perm_estimator = PermutationImportance(\n",
    "    estimator=estimator, \n",
    "    scoring=make_scorer(roc_auc_score, needs_proba=True),\n",
    "    n_iter=3)\n",
    "perm_estimator.fit(test_x, test_y)\n",
    "\n",
    "# calculate feature weights and return it as DataFrame\n",
    "expl = eli5.format_as_dataframe(\n",
    "    eli5.explain_weights(\n",
    "        perm_estimator,\n",
    "        top=None,\n",
    "        feature_names=features\n",
    "    )\n",
    ")\n",
    "\n",
    "show_weights(expl)"
   ]
  },
  {
   "cell_type": "code",
   "execution_count": 8,
   "metadata": {},
   "outputs": [
    {
     "data": {
      "text/plain": [
       "0         0\n",
       "1         0\n",
       "2         1\n",
       "3         0\n",
       "4         0\n",
       "         ..\n",
       "599995    0\n",
       "599996    0\n",
       "599997    0\n",
       "599998    0\n",
       "599999    0\n",
       "Name: ind_14, Length: 600000, dtype: int64"
      ]
     },
     "execution_count": 8,
     "metadata": {},
     "output_type": "execute_result"
    }
   ],
   "source": [
    "train['ind_14']"
   ]
  },
  {
   "cell_type": "code",
   "execution_count": null,
   "metadata": {},
   "outputs": [],
   "source": []
  }
 ],
 "metadata": {
  "kernelspec": {
   "display_name": "Python 3",
   "language": "python",
   "name": "python3"
  },
  "language_info": {
   "codemirror_mode": {
    "name": "ipython",
    "version": 3
   },
   "file_extension": ".py",
   "mimetype": "text/x-python",
   "name": "python",
   "nbconvert_exporter": "python",
   "pygments_lexer": "ipython3",
   "version": "3.7.6"
  },
  "pycharm": {
   "stem_cell": {
    "cell_type": "raw",
    "metadata": {
     "collapsed": false
    },
    "source": []
   }
  }
 },
 "nbformat": 4,
 "nbformat_minor": 4
}
